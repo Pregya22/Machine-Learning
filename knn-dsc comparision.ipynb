{
 "cells": [
  {
   "cell_type": "code",
   "execution_count": 4,
   "metadata": {
    "scrolled": false
   },
   "outputs": [
    {
     "name": "stdout",
     "output_type": "stream",
     "text": [
      "[2 2 0 0 1 0 2 2 2 0 1 1 2 1 0 2 1 2 1 1 2 1 0 2 0 2 1 0 2 0]\n",
      "[0 2 2 1 1 0 2 2 2 0 1 0 0 1 2 0 1 2 0 2 2 0 1 1 2 1 0 0 0 1]\n",
      "[2 2 0 0 1 0 2 2 2 0 1 1 2 1 0 2 1 2 1 1 2 1 0 2 0 2 1 0 2 0]\n",
      "0.9\n",
      "[0 2 2 1 1 0 2 2 2 0 1 0 0 1 2 0 1 2 0 2 2 0 1 1 2 1 0 0 0 1]\n",
      "0.9666666666666667\n"
     ]
    },
    {
     "data": {
      "image/png": "[encoded data removed]",
      "text/plain": [
       "<Figure size 432x288 with 1 Axes>"
      ]
     },
     "metadata": {},
     "output_type": "display_data"
    }
   ],
   "source": [
    "#!/usr/bin/python3\n",
    "from sklearn.datasets import load_iris\n",
    "from sklearn.neighbors import KNeighborsClassifier\n",
    "from sklearn import tree\n",
    "from sklearn.model_selection import train_test_split\n",
    "from sklearn.metrics import accuracy_score\n",
    "import matplotlib.pyplot as plt\n",
    "\n",
    "\n",
    "#loading all data\n",
    "iris=load_iris()\n",
    "\n",
    "#training flowers features is stored in\n",
    "    #iris.data\n",
    "\n",
    "#output accordingly stored in \n",
    "    #iris.target\n",
    "    \n",
    "#splitting onto test and train data set\n",
    "\n",
    "#train_test_split(iris.data, iris.target)\n",
    "\n",
    "train_iris_dsclf,test_iris_dsclf,train_target_dsclf,test_target_dsclf,=train_test_split(iris.data, iris.target, test_size=0.2)\n",
    "train_iris_knnclf,test_iris_knnclf,train_target_knnclf,test_target_knnclf,=train_test_split(iris.data, iris.target, test_size=0.2)\n",
    "\n",
    "#x,y,z,a=train_test_split(iris.data, iris.target, test_size=0.2)\n",
    "\n",
    "'''\n",
    "x is train iris(all features values containing 90%)\n",
    "y is remaining test iris (10% of features)\n",
    "z is train_target (all labels containing 90% of iris.target)\n",
    "a is test_target(remaining 10% of iris.target)\n",
    "\n",
    "'''\n",
    "\n",
    "#calling KNN\n",
    "knnclf=KNeighborsClassifier(n_neighbors=5)\n",
    "\n",
    "#calling decision tree\n",
    "dsclf=tree.DecisionTreeClassifier()\n",
    "\n",
    "#training data with knn\n",
    "trained_knnclf=knnclf.fit(train_iris_knnclf,train_target_knnclf)\n",
    "\n",
    "#training data with decision tree\n",
    "trained_dsclf=dsclf.fit(train_iris_dsclf,train_target_dsclf)\n",
    "\n",
    "#prediction\n",
    "output_knnclf=trained_knnclf.predict(test_iris_knnclf)\n",
    "print(output_knnclf)\n",
    "\n",
    "\n",
    "#prediction\n",
    "output_dsclf=trained_dsclf.predict(test_iris_dsclf)\n",
    "print(output_dsclf)\n",
    "\n",
    "#checking % of accuracy\n",
    "\n",
    "\n",
    "knnpct=accuracy_score(test_target_knnclf,output_knnclf)\n",
    "dscpct=accuracy_score(test_target_dsclf,output_dsclf)\n",
    "\n",
    "print(output_knnclf)\n",
    "print(knnpct)\n",
    "\n",
    "print(output_dsclf)\n",
    "print(dscpct)\n",
    "\n",
    "\n",
    "###plotting graph\n",
    "accuracy_per=[knnpct,dscpct]\n",
    "algo_name=[\"decision tree\",\"knn algo\"]\n",
    "plt.xlabel(\"algorithms\")\n",
    "plt.ylabel(\"accuracy %\")\n",
    "plt.bar(algo_name,accuracy_per)\n",
    "plt.show()\n",
    "\n",
    "\n"
   ]
  },
  {
   "cell_type": "code",
   "execution_count": null,
   "metadata": {},
   "outputs": [],
   "source": []
  },
  {
   "cell_type": "code",
   "execution_count": null,
   "metadata": {},
   "outputs": [],
   "source": []
  }
 ],
 "metadata": {
  "kernelspec": {
   "display_name": "Python 3",
   "language": "python",
   "name": "python3"
  },
  "language_info": {
   "codemirror_mode": {
    "name": "ipython",
    "version": 3
   },
   "file_extension": ".py",
   "mimetype": "text/x-python",
   "name": "python",
   "nbconvert_exporter": "python",
   "pygments_lexer": "ipython3",
   "version": "3.6.5"
  }
 },
 "nbformat": 4,
 "nbformat_minor": 2
}
