{
 "cells": [
  {
   "cell_type": "code",
   "execution_count": 6,
   "metadata": {},
   "outputs": [
    {
     "ename": "NameError",
     "evalue": "name 'trainedknn' is not defined",
     "output_type": "error",
     "traceback": [
      "\u001b[0;31m---------------------------------------------------------------------------\u001b[0m",
      "\u001b[0;31mNameError\u001b[0m                                 Traceback (most recent call last)",
      "\u001b[0;32m<ipython-input-6-85dada298845>\u001b[0m in \u001b[0;36m<module>\u001b[0;34m()\u001b[0m\n\u001b[1;32m     45\u001b[0m \u001b[0;34m\u001b[0m\u001b[0m\n\u001b[1;32m     46\u001b[0m \u001b[0;31m#prediction\u001b[0m\u001b[0;34m\u001b[0m\u001b[0;34m\u001b[0m\u001b[0m\n\u001b[0;32m---> 47\u001b[0;31m \u001b[0moutputknn\u001b[0m\u001b[0;34m=\u001b[0m\u001b[0mtrainedknn\u001b[0m\u001b[0;34m.\u001b[0m\u001b[0mpredict\u001b[0m\u001b[0;34m(\u001b[0m\u001b[0my\u001b[0m\u001b[0;34m)\u001b[0m\u001b[0;34m\u001b[0m\u001b[0m\n\u001b[0m\u001b[1;32m     48\u001b[0m \u001b[0mprint\u001b[0m\u001b[0;34m(\u001b[0m\u001b[0moutputknn\u001b[0m\u001b[0;34m)\u001b[0m\u001b[0;34m\u001b[0m\u001b[0m\n\u001b[1;32m     49\u001b[0m \u001b[0;34m\u001b[0m\u001b[0m\n",
      "\u001b[0;31mNameError\u001b[0m: name 'trainedknn' is not defined"
     ]
    }
   ],
   "source": [
    "#!/usr/bin/python3\n",
    "from sklearn.datasets import load_iris\n",
    "from sklearn.neighbors import KNeighborsClassifier\n",
    "from sklearn import tree\n",
    "from sklearn.model_selection import train_test_split\n",
    "from sklearn.metrics import accuracy_score\n",
    "\n",
    "\n",
    "#loading all data\n",
    "iris=load_iris()\n",
    "\n",
    "#training flowers features is stored in\n",
    "    #iris.data\n",
    "\n",
    "#output accordingly stored in \n",
    "    #iris.target\n",
    "    \n",
    "#splitting onto test and train data set\n",
    "\n",
    "train_test_split(iris.data, iris.target)\n",
    "\n",
    "x,y,z,a=train_test_split(iris.data, iris.target, test_size=0.2)\n",
    "\n",
    "#x,y,z,a=train_test_split(iris.data, iris.target, test_size=0.2)\n",
    "\n",
    "'''\n",
    "x is train iris(all features values containing 90%)\n",
    "y is remaining test iris (10% of features)\n",
    "z is train_target (all labels containing 90% of iris.target)\n",
    "a is test_target(remaining 10% of iris.target)\n",
    "\n",
    "'''\n",
    "\n",
    "#calling KNN\n",
    "knnclf=KNeighborsClassifier(n_neighbors=5)\n",
    "\n",
    "#calling decision tree\n",
    "dsclf=tree.DecisionTreeClassifier()\n",
    "\n",
    "#training data with knn\n",
    "trained = knnclf.fit(x,z)\n",
    "\n",
    "#training data with decision tree\n",
    "trained = dsclf.fit(x,z)\n",
    "\n",
    "#prediction\n",
    "outputknn=trainedknn.predict(y)\n",
    "print(outputknn)\n",
    "\n",
    "\n",
    "#prediction\n",
    "outputdsc=traineddsc.predict(y)\n",
    "print(outputdsc)\n",
    "\n",
    "#checking % of accuracy\n",
    "\n",
    "\n",
    "knnpct=accuracy_score(a, output)\n",
    "dscpct=accuracy_score(a, output)\n",
    "\n",
    "print(outputknn)\n",
    "print(knnpct)\n",
    "\n",
    "\n",
    "print(outputdsc)\n",
    "print(dscpct)\n"
   ]
  },
  {
   "cell_type": "code",
   "execution_count": null,
   "metadata": {},
   "outputs": [],
   "source": []
  },
  {
   "cell_type": "code",
   "execution_count": null,
   "metadata": {},
   "outputs": [],
   "source": []
  }
 ],
 "metadata": {
  "kernelspec": {
   "display_name": "Python 3",
   "language": "python",
   "name": "python3"
  },
  "language_info": {
   "codemirror_mode": {
    "name": "ipython",
    "version": 3
   },
   "file_extension": ".py",
   "mimetype": "text/x-python",
   "name": "python",
   "nbconvert_exporter": "python",
   "pygments_lexer": "ipython3",
   "version": "3.6.5"
  }
 },
 "nbformat": 4,
 "nbformat_minor": 2
}
