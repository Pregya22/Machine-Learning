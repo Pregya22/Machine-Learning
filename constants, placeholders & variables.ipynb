{
 "cells": [
  {
   "cell_type": "code",
   "execution_count": 1,
   "metadata": {},
   "outputs": [
    {
     "name": "stdout",
     "output_type": "stream",
     "text": [
      "[12]\n"
     ]
    }
   ],
   "source": [
    "#!/usr/bin/python3\n",
    "import tensorflow as tf\n",
    "\n",
    "#defining constants\n",
    "                #give data in the form of numpy\n",
    "x=tf.constant([5])\n",
    "y=tf.constant([7])\n",
    "\n",
    "#adding\n",
    "z=tf.add(x,y)\n",
    "\n",
    "#making session for processing tensors\n",
    "session=tf.Session()\n",
    "\n",
    "#running defined tensor operation\n",
    "output=session.run(z)\n",
    "print(output)\n",
    "\n",
    "session.close()\n"
   ]
  },
  {
   "cell_type": "code",
   "execution_count": 2,
   "metadata": {},
   "outputs": [
    {
     "name": "stdout",
     "output_type": "stream",
     "text": [
      "[ 3. 10.]\n"
     ]
    }
   ],
   "source": [
    "##defining placehlders\n",
    "\n",
    "#!/usr/bin/python3\n",
    "import tensorflow as tf\n",
    "\n",
    "#placeholders can accept values durimg run time\n",
    "                    #it says that the value we will provide in future will be a floatbvalue\n",
    "a=tf.placeholder(tf.float32)\n",
    "b=tf.placeholder(tf.float32)\n",
    "\n",
    "#defining a tensor\n",
    "c=a+b\n",
    "\n",
    "#starting session\n",
    "session=tf.Session()\n",
    "output=session.run(c,{a:[1,5],b:[2,5]})\n",
    "print(output)\n",
    "\n",
    "session.close()"
   ]
  },
  {
   "cell_type": "code",
   "execution_count": null,
   "metadata": {},
   "outputs": [],
   "source": [
    "##defining variables\n",
    "\n",
    "#!/usr/bin/python3\n",
    "import tensorflow as tf\n",
    "\n",
    "#defining variable\n",
    "x=tf.Variable(4)\n",
    "\n",
    "#now create a counter\n",
    "b=tf.constant(2)\n",
    "\n",
    "c=tf.add(x,b)\n",
    "\n",
    "update_var=tf.assign(x,c)\n",
    "\n",
    "#variable needs to be initialized before tensor graphs run\n",
    "\n",
    "init_var=tf.global_variables_initializer()\n",
    "\n",
    "#starting tensor\n",
    "\n",
    "with tf.Session() as session:\n",
    "session.run(init_var)\n",
    "writer=tf.summary.FileWriter(tensorgraph,session.graph)\n",
    "\n",
    "print(session.run(x))\n",
    "\n",
    "with open('ff',a) as f:\n",
    "    f.read()\n",
    "for _ in range(4):\n",
    "    session.run(update_var)\n",
    "    print(session.run(x))\n"
   ]
  },
  {
   "cell_type": "code",
   "execution_count": 7,
   "metadata": {},
   "outputs": [
    {
     "name": "stdout",
     "output_type": "stream",
     "text": [
      "[ 5  7  9 11]\n"
     ]
    }
   ],
   "source": [
    "#!/usr/bin/python3\n",
    "import tensorflow as tf\n",
    "\n",
    "#defiing the variables\n",
    "a=tf.Variable(2)\n",
    "b=tf.Variable(3)\n",
    "\n",
    "x=tf.placeholder(tf.int32)\n",
    "\n",
    "#linear regression\n",
    "linear_reg=a*x+b\n",
    "\n",
    "#initializing variable\n",
    "\n",
    "init_var=tf.global_variables_initializer()\n",
    "\n",
    "#starting session\n",
    "\n",
    "with tf.Session() as session:\n",
    "session.run(init_var)\n",
    "print(session.run(linear_reg,{x:[1,2,3,4]}))"
   ]
  },
  {
   "cell_type": "code",
   "execution_count": null,
   "metadata": {},
   "outputs": [],
   "source": []
  }
 ],
 "metadata": {
  "kernelspec": {
   "display_name": "Python 3",
   "language": "python",
   "name": "python3"
  },
  "language_info": {
   "codemirror_mode": {
    "name": "ipython",
    "version": 3
   },
   "file_extension": ".py",
   "mimetype": "text/x-python",
   "name": "python",
   "nbconvert_exporter": "python",
   "pygments_lexer": "ipython3",
   "version": "3.6.5"
  }
 },
 "nbformat": 4,
 "nbformat_minor": 2
}
