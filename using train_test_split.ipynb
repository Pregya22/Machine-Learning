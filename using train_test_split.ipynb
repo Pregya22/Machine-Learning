{
 "cells": [
  {
   "cell_type": "code",
   "execution_count": 8,
   "metadata": {},
   "outputs": [
    {
     "name": "stdout",
     "output_type": "stream",
     "text": [
      "[0 2 0 2 0 2 2 1 1 1 1 1 0 2 2]\n",
      "[0 2 0 2 0 2 2 1 1 1 1 1 0 2 2]\n"
     ]
    }
   ],
   "source": [
    "#!/usr/bin/python3\n",
    "from sklearn.datasets import load_iris\n",
    "\n",
    "#loading all data\n",
    "iris=load_iris()\n",
    "\n",
    "#training flowers features is stored in\n",
    "    #iris.data\n",
    "\n",
    "#output accordingly stored in \n",
    "    #iris.target\n",
    "    \n",
    "#splitting onto test and train data set\n",
    "from sklearn.model_selection import train_test_split\n",
    "train_test_split(iris.data, iris.target)\n",
    "\n",
    "x,y,z,a=train_test_split(iris.data, iris.target, test_size=0.1)\n",
    "\n",
    "'''\n",
    "x is train iris(all features values containing 90%)\n",
    "y is remaining test iris (10% of features)\n",
    "z is train_target (all labels containing 90% of iris.target)\n",
    "a is test_target(remaining 10% of iris.target)\n",
    "\n",
    "'''\n",
    "\n",
    "#calling decision tree classifier\n",
    "from sklearn import tree\n",
    "dcslf=tree.DecisionTreeClassifier()\n",
    "\n",
    "#training data with decision tree\n",
    "trained = dcslf.fit(x,z)\n",
    "\n",
    "#prediction\n",
    "output=trained.predict(y)\n",
    "print(output)\n",
    "\n",
    "#checking % of accuracy\n",
    "from sklearn.metrics import accuracy_score\n",
    "\n",
    "pct=accuracy_score(a, output)\n",
    "\n",
    "print(output)"
   ]
  },
  {
   "cell_type": "code",
   "execution_count": null,
   "metadata": {},
   "outputs": [],
   "source": []
  }
 ],
 "metadata": {
  "kernelspec": {
   "display_name": "Python 3",
   "language": "python",
   "name": "python3"
  },
  "language_info": {
   "codemirror_mode": {
    "name": "ipython",
    "version": 3
   },
   "file_extension": ".py",
   "mimetype": "text/x-python",
   "name": "python",
   "nbconvert_exporter": "python",
   "pygments_lexer": "ipython3",
   "version": "3.6.5"
  }
 },
 "nbformat": 4,
 "nbformat_minor": 2
}
