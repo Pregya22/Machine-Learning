{
 "cells": [
  {
   "cell_type": "code",
   "execution_count": 4,
   "metadata": {
    "scrolled": true
   },
   "outputs": [
    {
     "name": "stdout",
     "output_type": "stream",
     "text": [
      "['apple']\n"
     ]
    }
   ],
   "source": [
    "\n",
    "from sklearn import tree\n",
    "\n",
    "#features of apple and orange\n",
    "# here 0 is smooth and 1 is bumpy\n",
    "data=[[100,0],[130,0],[135,1],[150,1]]\n",
    "output=[\"apple\",\"apple\",\"orange\",\"orange\"]\n",
    "\n",
    "# call decision tree algo\n",
    "algo=tree.DecisionTreeClassifier()\n",
    "\n",
    "#train data\n",
    "trained_algo=algo.fit(data,output)\n",
    "\n",
    "#now testing phase\n",
    "predict=trained_algo.predict([[100,0]])\n",
    "\n",
    "#printing output\n",
    "print(predict)\n"
   ]
  },
  {
   "cell_type": "code",
   "execution_count": 6,
   "metadata": {},
   "outputs": [],
   "source": [
    "import sklearn"
   ]
  },
  {
   "cell_type": "code",
   "execution_count": null,
   "metadata": {},
   "outputs": [],
   "source": []
  }
 ],
 "metadata": {
  "kernelspec": {
   "display_name": "Python 3",
   "language": "python",
   "name": "python3"
  },
  "language_info": {
   "codemirror_mode": {
    "name": "ipython",
    "version": 3
   },
   "file_extension": ".py",
   "mimetype": "text/x-python",
   "name": "python",
   "nbconvert_exporter": "python",
   "pygments_lexer": "ipython3",
   "version": "3.6.5"
  }
 },
 "nbformat": 4,
 "nbformat_minor": 2
}
