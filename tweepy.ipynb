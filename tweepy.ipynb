{
 "cells": [
  {
   "cell_type": "code",
   "execution_count": null,
   "metadata": {},
   "outputs": [],
   "source": []
  },
  {
   "cell_type": "code",
   "execution_count": 24,
   "metadata": {},
   "outputs": [
    {
     "name": "stdout",
     "output_type": "stream",
     "text": [
      "RT @Education4Libs: Laura Bush says the zero tolerance border policy is “cruel” &amp; “immoral.”\n",
      "\n",
      "Where was her outrage before this administrat…\n",
      "Sentiment(polarity=-1.0, subjectivity=1.0)\n",
      "RT @Christ_Koran: @MalteKaufmann @realDonaldTrump Herr Dr. Kaufmann, \n",
      "gut, dass Sie sich von Herrn Trump über Deutschland informieren. Leid…\n",
      "Sentiment(polarity=0.0, subjectivity=0.0)\n",
      "RT @counterfireorg: Now it’s serious: why taking on Trump matters https://t.co/T4I930aJrm #TrumpConcentrationCamps #TogetherAgainstTrump #T…\n",
      "Sentiment(polarity=-0.3333333333333333, subjectivity=0.6666666666666666)\n",
      "RT @cassbyrne1345: some mother ,she is a puppet like trump intertested in her self https://t.co/ByyltQz6hW\n",
      "Sentiment(polarity=0.0, subjectivity=0.0)\n",
      "RT @nycsouthpaw: I can be blunter. “President Trump, for decades a committed racist, is dusting off appeals to white supremacy that civiliz…\n",
      "Sentiment(polarity=0.0, subjectivity=0.0)\n",
      "RT @EdKrassen: Trump literally has fired half a dozen people who were investigating him. If you don't have a problem with that, then you do…\n",
      "Sentiment(polarity=-0.16666666666666666, subjectivity=0.16666666666666666)\n",
      "Trump’s madness separates kids from their immigrant parents the same way Trump’s madness separates Righties from an… https://t.co/dic8uOqkzS\n",
      "Sentiment(polarity=0.0, subjectivity=0.125)\n",
      "RT @grizzlemeister: Recommend a Retweet to show the type of company this ‘F**k Trump’ foul mouthed Cuck DeNiro keeps. https://t.co/u0ZSQM3S…\n",
      "Sentiment(polarity=0.0, subjectivity=0.0)\n",
      "RT @redlightvoices: my point is, I guess,what Trump is doing is neither original nor unique. It's also been happening across Europe and is…\n",
      "Sentiment(polarity=0.375, subjectivity=0.875)\n",
      "RT @Trickyjabs: A sweet little boy, with a number pinned on his shirt, locked in a cage, kept from his parents.\n",
      "\n",
      "If you didn't have a reaso…\n",
      "Sentiment(polarity=0.08124999999999999, subjectivity=0.575)\n"
     ]
    }
   ],
   "source": [
    "#!/usr/bin/python3\n",
    "\n",
    "import tweepy\n",
    "from textblob import TextBlob\n",
    "\n",
    "#to authinticate twitter from your account\n",
    "#creating consumer key and secret key\n",
    "consumer_key='dRChv4DxXeAWxd3finTf4IlDz'\n",
    "consumer_secret='0itdDbafJtVj5POzyGannmhuZq8xvbu70UlmRGNq6Gqad68VDf'\n",
    "\n",
    "#creating access key and secret key\n",
    "access_key='1119592268-1h8na0QLBDt5nJOu4CKrnWhoeyyDn3ySTETpPr9'\n",
    "access_secret='Qu9axvgWTolu2B1bEt9umCSI54MwR58cqQpTLXaZduleV'\n",
    "\n",
    "#connecting for authentication\n",
    "auth=tweepy.OAuthHandler(consumer_key, consumer_secret)\n",
    "auth.set_access_token(access_key, access_secret)\n",
    "\n",
    "#connecting API\n",
    "connect=tweepy.API(auth)\n",
    "\n",
    "#finding data\n",
    "#print (dir(connect))\n",
    "\n",
    "get_data=connect.search('Trump',count=10)\n",
    "\n",
    "#print(get_data)\n",
    "#print(type(get_data))\n",
    "#printing data\n",
    "\n",
    "for i in get_data:\n",
    "    #print(i.txt)\n",
    "    # for textblob\n",
    "    analysis=TextBlob(i.text)\n",
    "    #to get tweets\n",
    "    print(analysis)\n",
    "    #to check polarity\n",
    "    print(analysis.sentiment)\n",
    "    \n",
    "#x=\"hello, this is Pregya Poonia\"\n",
    "#y=TextBlob(x)"
   ]
  },
  {
   "cell_type": "code",
   "execution_count": null,
   "metadata": {},
   "outputs": [],
   "source": []
  },
  {
   "cell_type": "code",
   "execution_count": null,
   "metadata": {},
   "outputs": [],
   "source": []
  },
  {
   "cell_type": "code",
   "execution_count": null,
   "metadata": {},
   "outputs": [],
   "source": []
  },
  {
   "cell_type": "code",
   "execution_count": null,
   "metadata": {},
   "outputs": [],
   "source": []
  }
 ],
 "metadata": {
  "kernelspec": {
   "display_name": "Python 3",
   "language": "python",
   "name": "python3"
  },
  "language_info": {
   "codemirror_mode": {
    "name": "ipython",
    "version": 3
   },
   "file_extension": ".py",
   "mimetype": "text/x-python",
   "name": "python",
   "nbconvert_exporter": "python",
   "pygments_lexer": "ipython3",
   "version": "3.6.5"
  }
 },
 "nbformat": 4,
 "nbformat_minor": 2
}
